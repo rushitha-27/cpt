{
 "cells": [
  {
   "cell_type": "code",
   "execution_count": 1,
   "id": "896680c2-e64b-4418-9970-4c41ce99d97d",
   "metadata": {},
   "outputs": [
    {
     "name": "stdin",
     "output_type": "stream",
     "text": [
      "enter number of elements: 4\n",
      "enter elements1: 11\n",
      "enter elements2: 22\n",
      "enter elements3: 33\n",
      "enter elements4: 44\n"
     ]
    },
    {
     "name": "stdout",
     "output_type": "stream",
     "text": [
      "Doubly linked list\n",
      "11<--->22<--->33<--->44<--->None\n",
      "values for traversing backwarrd..\n",
      "44<--->33<--->22<--->11<--->none\n"
     ]
    }
   ],
   "source": [
    "class Node:\n",
    "    def __init__(self,data):\n",
    "        self.data=data\n",
    "        self.prev=None\n",
    "        self.next=None\n",
    "class doublylinkedlist:\n",
    "    def __init__(self):\n",
    "        self.head=None\n",
    "    def iae(self,data):\n",
    "        newnode=Node(data)\n",
    "        if self.head is None:\n",
    "            self.head=newnode\n",
    "            return\n",
    "        temp=self.head\n",
    "        while temp.next:\n",
    "            temp=temp.next\n",
    "        temp.next=newnode\n",
    "        newnode.prev=temp\n",
    "    def backtraverse(self):\n",
    "        print(\"values for traversing backwarrd..\")\n",
    "        temp=self.head\n",
    "        if not temp:\n",
    "            print(\"Empty list\")\n",
    "            return\n",
    "        while temp.next:\n",
    "            temp=temp.next\n",
    "        while temp:\n",
    "            print(temp.data,end='<--->')\n",
    "            temp=temp.prev\n",
    "        print(\"none\")\n",
    "    def display(self):\n",
    "        temp=self.head\n",
    "        print(\"Doubly linked list\")\n",
    "        while temp:\n",
    "            print(temp.data,end='<--->')\n",
    "            temp=temp.next\n",
    "        print(\"None\")\n",
    "dll=doublylinkedlist()\n",
    "n=int(input(\"enter number of elements:\"))\n",
    "for i in range(n):\n",
    "    val=int(input(f\"enter elements{i+1}:\"))\n",
    "    dll.iae(val)\n",
    "dll.display()\n",
    "dll.backtraverse()"
   ]
  },
  {
   "cell_type": "code",
   "execution_count": null,
   "id": "e838c73b-123b-4ad5-a1d0-b09511f5cdd7",
   "metadata": {},
   "outputs": [],
   "source": []
  }
 ],
 "metadata": {
  "kernelspec": {
   "display_name": "Python 3 (ipykernel)",
   "language": "python",
   "name": "python3"
  },
  "language_info": {
   "codemirror_mode": {
    "name": "ipython",
    "version": 3
   },
   "file_extension": ".py",
   "mimetype": "text/x-python",
   "name": "python",
   "nbconvert_exporter": "python",
   "pygments_lexer": "ipython3",
   "version": "3.12.7"
  }
 },
 "nbformat": 4,
 "nbformat_minor": 5
}
