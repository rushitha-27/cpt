{
 "cells": [
  {
   "cell_type": "code",
   "execution_count": 3,
   "id": "c32afc39-2b9d-4842-9f1d-49c09d495d6d",
   "metadata": {},
   "outputs": [
    {
     "name": "stdin",
     "output_type": "stream",
     "text": [
      "Enter the number of elements to insert at beginning:  3\n",
      "Enter element 1:  4\n",
      "Enter element 2:  5\n",
      "Enter element 3:  6\n"
     ]
    },
    {
     "name": "stdout",
     "output_type": "stream",
     "text": [
      "Doubly Linked List:\n",
      "6<->5<->4<->None\n"
     ]
    }
   ],
   "source": [
    "class Node:\n",
    "    def __init__(self, data):\n",
    "        self.data = data\n",
    "        self.prev = None\n",
    "        self.next = None\n",
    "\n",
    "class DoublyLinkedList:\n",
    "    def __init__(self):\n",
    "        self.head = None\n",
    "\n",
    "    def iae(self, data):\n",
    "        \n",
    "        newnode = Node(data)\n",
    "        if self.head is None:\n",
    "            self.head = newnode\n",
    "            return\n",
    "        temp = self.head\n",
    "        while temp.next:\n",
    "            temp = temp.next\n",
    "        temp.next = newnode\n",
    "        newnode.prev = temp\n",
    "\n",
    "    def iab(self, data):\n",
    "       \n",
    "        newnode = Node(data)\n",
    "        newnode.next = self.head \n",
    "        if self.head is not None:\n",
    "            self.head.prev = newnode  \n",
    "        self.head = newnode  \n",
    "\n",
    "    def display(self):\n",
    "        temp = self.head\n",
    "        print(\"Doubly Linked List:\")\n",
    "        while temp:\n",
    "            print(temp.data, end=\"<->\")\n",
    "            temp = temp.next\n",
    "        print(\"None\")\n",
    "\n",
    "\n",
    "dll = DoublyLinkedList()\n",
    "n = int(input(\"Enter the number of elements to insert at beginning: \"))\n",
    "for i in range(n):\n",
    "    val = int(input(f\"Enter element {i+1}: \"))\n",
    "    dll.iab(val)  \n",
    "dll.display()\n"
   ]
  },
  {
   "cell_type": "code",
   "execution_count": null,
   "id": "0d62ac0c-969f-46dd-bc80-203feb7dd098",
   "metadata": {},
   "outputs": [],
   "source": []
  }
 ],
 "metadata": {
  "kernelspec": {
   "display_name": "Python 3 (ipykernel)",
   "language": "python",
   "name": "python3"
  },
  "language_info": {
   "codemirror_mode": {
    "name": "ipython",
    "version": 3
   },
   "file_extension": ".py",
   "mimetype": "text/x-python",
   "name": "python",
   "nbconvert_exporter": "python",
   "pygments_lexer": "ipython3",
   "version": "3.12.7"
  }
 },
 "nbformat": 4,
 "nbformat_minor": 5
}
