{
 "cells": [
  {
   "cell_type": "code",
   "execution_count": 1,
   "id": "0fc7e017-3be8-4f54-a7fb-d169eb449c9f",
   "metadata": {},
   "outputs": [
    {
     "name": "stdin",
     "output_type": "stream",
     "text": [
      "Enter the number of elements to insert at end : 1\n",
      "Enter element 1: 22\n"
     ]
    },
    {
     "name": "stdout",
     "output_type": "stream",
     "text": [
      "Doubly Linked List:\n",
      "22 <--->None\n"
     ]
    },
    {
     "name": "stdin",
     "output_type": "stream",
     "text": [
      "\n",
      " how many times you want to perform delete operation: 1\n"
     ]
    },
    {
     "name": "stdout",
     "output_type": "stream",
     "text": [
      "Deleted: 22\n",
      "Doubly Linked List:\n",
      "None\n"
     ]
    }
   ],
   "source": [
    "class Node:\n",
    "    def __init__(self,data):\n",
    "        self.data=data\n",
    "        self.prev=None\n",
    "        self.next=None\n",
    "class DoublyLinkedList:\n",
    "    def __init__(self):\n",
    "        self.head=None\n",
    "    def iab(self,data):\n",
    "        newnode=Node(data)\n",
    "        if self.head is None:\n",
    "            self.head=newnode\n",
    "            return\n",
    "        newnode.next = self.head\n",
    "        self.head.prev = newnode\n",
    "        self.head = newnode\n",
    "    def dae(self):\n",
    "        if self.head is None:\n",
    "            print(\"Can't perform delete in an empty list...\")\n",
    "            return\n",
    "        temp=self.head\n",
    "        while temp.next:\n",
    "            temp=temp.next\n",
    "        print(f\"Deleted: {temp.data}\")\n",
    "        if temp.prev:\n",
    "            temp.prev.next=None\n",
    "        else:\n",
    "            self.head=None\n",
    "            \n",
    "    def display(self):\n",
    "        temp=self.head\n",
    "        print(\"Doubly Linked List:\")\n",
    "        while temp:\n",
    "            print(temp.data, end=\" <--->\")\n",
    "            temp=temp.next\n",
    "        print(\"None\")\n",
    "\n",
    "dll=DoublyLinkedList()\n",
    "n=int(input(\"Enter the number of elements to insert at Begin :\"))\n",
    "for i in range(n):\n",
    "    val=int(input(f\"Enter element {i+1}:\"))\n",
    "    dll.iab(val)\n",
    "dll.display()\n",
    "d=int(input(\"\\n how many times you want to perform delete operation:\"))\n",
    "for _ in range(d):\n",
    "    dll.dae()\n",
    "    dll.display()"
   ]
  },
  {
   "cell_type": "code",
   "execution_count": null,
   "id": "82fb39c1-1142-4e34-81d7-43cc31414e88",
   "metadata": {},
   "outputs": [],
   "source": []
  }
 ],
 "metadata": {
  "kernelspec": {
   "display_name": "Python 3 (ipykernel)",
   "language": "python",
   "name": "python3"
  },
  "language_info": {
   "codemirror_mode": {
    "name": "ipython",
    "version": 3
   },
   "file_extension": ".py",
   "mimetype": "text/x-python",
   "name": "python",
   "nbconvert_exporter": "python",
   "pygments_lexer": "ipython3",
   "version": "3.12.7"
  }
 },
 "nbformat": 4,
 "nbformat_minor": 5
}
