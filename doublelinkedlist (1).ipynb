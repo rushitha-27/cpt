{
 "cells": [
  {
   "cell_type": "code",
   "execution_count": 7,
   "id": "fa42cccc-cbfe-472c-92a2-1e296201d45b",
   "metadata": {},
   "outputs": [
    {
     "name": "stdin",
     "output_type": "stream",
     "text": [
      "enter the number of elements to insert at end: 4\n",
      "enter element 1: 3\n",
      "enter element 2: 4\n",
      "enter element 3: 8\n",
      "enter element 4: 9\n"
     ]
    },
    {
     "name": "stdout",
     "output_type": "stream",
     "text": [
      "Doubly Linked List:\n",
      "3<->4<->8<->9<->None\n"
     ]
    }
   ],
   "source": [
    "class Node:\n",
    "    def __init__(self,data):\n",
    "        self.data=data\n",
    "        self.prev=None\n",
    "        self.next=None\n",
    "class DoublyLinkedList:\n",
    "    def __init__(self):\n",
    "        self.head=None\n",
    "    def iae(self,data):\n",
    "        newnode=Node(data)\n",
    "        if self.head is None:\n",
    "            self.head=newnode\n",
    "            return\n",
    "        temp=self.head\n",
    "        while temp.next:\n",
    "            temp=temp.next\n",
    "        temp.next=newnode\n",
    "        newnode.prev=temp\n",
    "\n",
    "    def display(self):\n",
    "        temp=self.head\n",
    "        print(\"Doubly Linked List:\")\n",
    "        while temp:\n",
    "            print(temp.data, end=\"<->\")\n",
    "            temp=temp.next\n",
    "        print(\"None\")\n",
    "dll=DoublyLinkedList()\n",
    "n= int(input(\"enter the number of elements to insert at end:\"))\n",
    "for i in range(n):\n",
    "    val=int(input(f\"enter element {i+1}:\"))\n",
    "    dll.iae(val)\n",
    "dll.display()"
   ]
  },
  {
   "cell_type": "code",
   "execution_count": null,
   "id": "333eab7b-1b9d-47bf-8d63-54dc8490fdda",
   "metadata": {},
   "outputs": [],
   "source": []
  }
 ],
 "metadata": {
  "kernelspec": {
   "display_name": "Python 3 (ipykernel)",
   "language": "python",
   "name": "python3"
  },
  "language_info": {
   "codemirror_mode": {
    "name": "ipython",
    "version": 3
   },
   "file_extension": ".py",
   "mimetype": "text/x-python",
   "name": "python",
   "nbconvert_exporter": "python",
   "pygments_lexer": "ipython3",
   "version": "3.12.7"
  }
 },
 "nbformat": 4,
 "nbformat_minor": 5
}
