{
 "cells": [
  {
   "cell_type": "code",
   "execution_count": 1,
   "id": "c22ea4bb-1f75-4dc1-8c0e-3fba3cf5b4ac",
   "metadata": {},
   "outputs": [
    {
     "name": "stdout",
     "output_type": "stream",
     "text": [
      "\n",
      " LinkedList- Insert At Begin...\n",
      "1.Insert\n",
      "2.Display\n",
      "3.Exit\n"
     ]
    },
    {
     "name": "stdin",
     "output_type": "stream",
     "text": [
      "Enter your choice 1\n",
      "enter a value to insert: 2\n"
     ]
    },
    {
     "name": "stdout",
     "output_type": "stream",
     "text": [
      "2Inserted from begin.\n",
      "\n",
      " LinkedList- Insert At Begin...\n",
      "1.Insert\n",
      "2.Display\n",
      "3.Exit\n"
     ]
    },
    {
     "name": "stdin",
     "output_type": "stream",
     "text": [
      "Enter your choice 3\n"
     ]
    },
    {
     "name": "stdout",
     "output_type": "stream",
     "text": [
      "exit the operation...\n"
     ]
    }
   ],
   "source": [
    "class Node:\n",
    "    def __init__(self,data):\n",
    "        self.data=data\n",
    "        self.next=None\n",
    "class LinkedList:\n",
    "    def __init__(self):\n",
    "        self.head=None\n",
    "    def iab(self,data):\n",
    "        newnode=Node(data)\n",
    "        newnode.next=self.head\n",
    "        self.head=newnode\n",
    "        print(f\"{data}Inserted from begin.\")\n",
    "    def display(self):\n",
    "        current=self.head\n",
    "        if not current:\n",
    "            print(\"LinkedList Empty\")\n",
    "            return\n",
    "        while current:\n",
    "            print(current.data,end=\"---\")\n",
    "            current=current.next\n",
    "        print(\"None\")\n",
    "l1=LinkedList()\n",
    "while True:\n",
    "    print(\"\\n LinkedList- Insert At Begin...\")\n",
    "    print(\"1.Insert\")\n",
    "    print(\"2.Display\")\n",
    "    print(\"3.Exit\")\n",
    "    choice=input(\"Enter your choice\")\n",
    "    if choice=='1':\n",
    "        data=int(input(\"enter a value to insert:\"))\n",
    "        l1.iab(data)\n",
    "    elif choice=='2':\n",
    "        l1.display()\n",
    "    elif choice=='3':\n",
    "        print(\"exit the operation...\")\n",
    "        break\n",
    "    else:\n",
    "        print(\"enter valid choice\")\n",
    "        "
   ]
  },
  {
   "cell_type": "code",
   "execution_count": null,
   "id": "9515afe9-2bf8-4e5c-a115-8d180ddfa0b1",
   "metadata": {},
   "outputs": [],
   "source": []
  }
 ],
 "metadata": {
  "kernelspec": {
   "display_name": "Python 3 (ipykernel)",
   "language": "python",
   "name": "python3"
  },
  "language_info": {
   "codemirror_mode": {
    "name": "ipython",
    "version": 3
   },
   "file_extension": ".py",
   "mimetype": "text/x-python",
   "name": "python",
   "nbconvert_exporter": "python",
   "pygments_lexer": "ipython3",
   "version": "3.12.7"
  }
 },
 "nbformat": 4,
 "nbformat_minor": 5
}
