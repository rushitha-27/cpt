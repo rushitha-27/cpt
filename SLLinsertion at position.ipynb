{
 "cells": [
  {
   "cell_type": "code",
   "execution_count": 11,
   "id": "c22ea4bb-1f75-4dc1-8c0e-3fba3cf5b4ac",
   "metadata": {},
   "outputs": [
    {
     "name": "stdout",
     "output_type": "stream",
     "text": [
      "\n",
      " LinkedList- Insert At Begin...\n",
      "1.Insert\n",
      "2.Display\n",
      "3.Exit\n"
     ]
    },
    {
     "name": "stdin",
     "output_type": "stream",
     "text": [
      "Enter your choice 1\n",
      "enter a value to insert: 10\n"
     ]
    },
    {
     "ename": "TypeError",
     "evalue": "LinkedList.iap() missing 1 required positional argument: 'pos'",
     "output_type": "error",
     "traceback": [
      "\u001b[1;31m---------------------------------------------------------------------------\u001b[0m",
      "\u001b[1;31mTypeError\u001b[0m                                 Traceback (most recent call last)",
      "Cell \u001b[1;32mIn[11], line 47\u001b[0m\n\u001b[0;32m     45\u001b[0m \u001b[38;5;28;01mif\u001b[39;00m choice\u001b[38;5;241m==\u001b[39m\u001b[38;5;124m'\u001b[39m\u001b[38;5;124m1\u001b[39m\u001b[38;5;124m'\u001b[39m:\n\u001b[0;32m     46\u001b[0m     data\u001b[38;5;241m=\u001b[39m\u001b[38;5;28mint\u001b[39m(\u001b[38;5;28minput\u001b[39m(\u001b[38;5;124m\"\u001b[39m\u001b[38;5;124menter a value to insert:\u001b[39m\u001b[38;5;124m\"\u001b[39m))\n\u001b[1;32m---> 47\u001b[0m     l1\u001b[38;5;241m.\u001b[39miap(data)\n\u001b[0;32m     48\u001b[0m \u001b[38;5;28;01melif\u001b[39;00m choice\u001b[38;5;241m==\u001b[39m\u001b[38;5;124m'\u001b[39m\u001b[38;5;124m2\u001b[39m\u001b[38;5;124m'\u001b[39m:\n\u001b[0;32m     49\u001b[0m     l1\u001b[38;5;241m.\u001b[39mdisplay()\n",
      "\u001b[1;31mTypeError\u001b[0m: LinkedList.iap() missing 1 required positional argument: 'pos'"
     ]
    }
   ],
   "source": [
    "class Node:\n",
    "    def __init__(self,data):\n",
    "        self.data=data\n",
    "        self.next=None\n",
    "class LinkedList:\n",
    "    def __init__(self):\n",
    "        self.head=None\n",
    "    def iap(self,data,pos):\n",
    "        newnode=Node(data)\n",
    "        if pos<=0:\n",
    "            print(\"position min>=1\")\n",
    "            return\n",
    "        if pos==1:\n",
    "            newnode.next==self.head\n",
    "            self.head=newnode\n",
    "            print(f\"{data}Inserted at pos-1\")\n",
    "            return\n",
    "        current=self.head\n",
    "        c=1\n",
    "        while current and c<pos-1:\n",
    "            current=current.next\n",
    "            c+=1\n",
    "        if not current:\n",
    "            print(\"not in range\")\n",
    "            return\n",
    "        newnode.next=current.next\n",
    "        current.next=newnode\n",
    "        print(f\"{data} inserted at position {pos} \")\n",
    "    def display(self):\n",
    "        current=self.head\n",
    "        if not current:\n",
    "            print(\"LinkedList Empty\")\n",
    "            return\n",
    "        while current:\n",
    "            print(current.data,end=\"---\")\n",
    "            current=current.next\n",
    "        print(\"None\")\n",
    "l1=LinkedList()\n",
    "while True:\n",
    "    print(\"\\n LinkedList- Insert At Begin...\")\n",
    "    print(\"1.Insert\")\n",
    "    print(\"2.Display\")\n",
    "    print(\"3.Exit\")\n",
    "    choice=input(\"Enter your choice\")\n",
    "    if choice=='1':\n",
    "        data=int(input(\"enter a value to insert:\"))\n",
    "        pos=int(input(\"enter position:\"))\n",
    "        l1.iap(data,pos)\n",
    "    elif choice=='2':\n",
    "        l1.display()\n",
    "    elif choice=='3':\n",
    "        print(\"exit the operation...\")\n",
    "        break\n",
    "    else:\n",
    "        print(\"enter valid choice\")\n",
    "        "
   ]
  },
  {
   "cell_type": "code",
   "execution_count": 3,
   "id": "9515afe9-2bf8-4e5c-a115-8d180ddfa0b1",
   "metadata": {},
   "outputs": [
    {
     "name": "stdout",
     "output_type": "stream",
     "text": [
      "\n",
      " LinkedList- Insert At Begin...\n",
      "1.Insert\n",
      "2.Display\n",
      "3.Exit\n"
     ]
    },
    {
     "name": "stdin",
     "output_type": "stream",
     "text": [
      "Enter your choice 2\n"
     ]
    },
    {
     "name": "stdout",
     "output_type": "stream",
     "text": [
      "LinkedList Empty\n",
      "\n",
      " LinkedList- Insert At Begin...\n",
      "1.Insert\n",
      "2.Display\n",
      "3.Exit\n"
     ]
    },
    {
     "name": "stdin",
     "output_type": "stream",
     "text": [
      "Enter your choice 4\n"
     ]
    },
    {
     "name": "stdout",
     "output_type": "stream",
     "text": [
      "enter valid choice\n",
      "\n",
      " LinkedList- Insert At Begin...\n",
      "1.Insert\n",
      "2.Display\n",
      "3.Exit\n"
     ]
    },
    {
     "name": "stdin",
     "output_type": "stream",
     "text": [
      "Enter your choice 3\n"
     ]
    },
    {
     "name": "stdout",
     "output_type": "stream",
     "text": [
      "exit the operation...\n"
     ]
    }
   ],
   "source": [
    "\n",
    "while True:\n",
    "    print(\"\\n LinkedList- Insert At Begin...\")\n",
    "    print(\"1.Insert\")\n",
    "    print(\"2.Display\")\n",
    "    print(\"3.Exit\")\n",
    "    choice=input(\"Enter your choiceclass Node:\n",
    "    def __init__(self,data):\n",
    "        self.data=data\n",
    "        self.next=None\n",
    "class LinkedList:\n",
    "    def __init__(self):\n",
    "        self.head=None\n",
    "    def iae(self,data):\n",
    "        newnode=Node(data)\n",
    "        if self.head is None:\n",
    "            self.head=newnode\n",
    "            print(f\" {data} Inserted at end/ will be first node\")\n",
    "            return\n",
    "        current=self.head\n",
    "        while current.next:\n",
    "            current=current.next\n",
    "        current.next=newnode\n",
    "        print(f\" {data} Inserted last\")\n",
    "    def display(self):\n",
    "        current=self.head\n",
    "        if not current:\n",
    "            print(\"LinkedList Empty\")\n",
    "            return\n",
    "        while current:\n",
    "            print(current.data,end=\"---\")\n",
    "            current=current.next\n",
    "        print(\"None\")\n",
    "l1=LinkedList()\")\n",
    "    if choice=='1':\n",
    "        data=int(input(\"enter a value to insert:\"))\n",
    "        l1.iab(data)\n",
    "    elif choice=='2':\n",
    "        l1.display()\n",
    "    elif choice=='3':\n",
    "        print(\"exit the operation...\")\n",
    "        break\n",
    "    else:\n",
    "        print(\"enter valid choice\")\n",
    "        "
   ]
  },
  {
   "cell_type": "code",
   "execution_count": null,
   "id": "3feba090-7b27-4b22-9c51-349d59c7405e",
   "metadata": {},
   "outputs": [],
   "source": []
  }
 ],
 "metadata": {
  "kernelspec": {
   "display_name": "Python 3 (ipykernel)",
   "language": "python",
   "name": "python3"
  },
  "language_info": {
   "codemirror_mode": {
    "name": "ipython",
    "version": 3
   },
   "file_extension": ".py",
   "mimetype": "text/x-python",
   "name": "python",
   "nbconvert_exporter": "python",
   "pygments_lexer": "ipython3",
   "version": "3.12.7"
  }
 },
 "nbformat": 4,
 "nbformat_minor": 5
}
