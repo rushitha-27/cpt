{
 "cells": [
  {
   "cell_type": "code",
   "execution_count": 3,
   "id": "907b64a4-6699-43f1-bcd1-47184a8e6a1a",
   "metadata": {},
   "outputs": [
    {
     "name": "stdin",
     "output_type": "stream",
     "text": [
      "enter the number of elements to insert at end: 3\n",
      "enter element 1: 10\n",
      "enter the position to insert 10: 1\n",
      "enter element 2: 20\n",
      "enter the position to insert 20: 2\n",
      "enter element 3: 30\n",
      "enter the position to insert 30: 3\n"
     ]
    },
    {
     "name": "stdout",
     "output_type": "stream",
     "text": [
      "Double Linked List:\n",
      "10<--->20<--->30<--->100<--->None\n"
     ]
    }
   ],
   "source": [
    "class Node:\n",
    "    def __init__(self,data):\n",
    "        self.data=data\n",
    "        self.prev=None\n",
    "        self.next=None\n",
    "class DoublyLinkedList:\n",
    "    def __init__(self):\n",
    "        self.head=None\n",
    "    def iap(self,pos,data):\n",
    "        newnode=Node(data)\n",
    "        if pos<=0:\n",
    "            print(\"Invalid position\")\n",
    "            return\n",
    "        if pos==1:\n",
    "            newnode.next=self.head\n",
    "            if self.head:\n",
    "                self.head.prev=newnode\n",
    "            self.head=newnode\n",
    "            return\n",
    "        temp=self.head\n",
    "        for _ in range(pos-2):\n",
    "            if temp is None:\n",
    "                print(\"Position off range\")\n",
    "                return\n",
    "            temp=temp.next\n",
    "        if temp is None:\n",
    "            print(\"no elements!!\")\n",
    "            return\n",
    "        newnode.next=temp.next\n",
    "        newnode.prev=temp\n",
    "        if temp.next:\n",
    "            temp.next.prev=newnode\n",
    "        temp.next=newnode\n",
    "       \n",
    "    def display(self):\n",
    "        temp=self.head\n",
    "        print(\"Double Linked List:\")\n",
    "        while temp:\n",
    "            print(temp.data, end=\"<--->\")\n",
    "            temp=temp.next\n",
    "        print(\"None\")\n",
    "dll=DoublyLinkedList()\n",
    "dll.iap(1,100)\n",
    "n= int(input(\"enter the number of elements to insert at end:\"))\n",
    "for i in range(n):\n",
    "    val=int(input(f\"enter element {i+1}:\"))\n",
    "    pos=int(input(f\"enter the position to insert {val}:\"))\n",
    "    dll.iap(pos,val)\n",
    "dll.display()"
   ]
  },
  {
   "cell_type": "code",
   "execution_count": null,
   "id": "9591ea8a-b597-4cfa-a389-155e392ffc32",
   "metadata": {},
   "outputs": [],
   "source": []
  }
 ],
 "metadata": {
  "kernelspec": {
   "display_name": "Python 3 (ipykernel)",
   "language": "python",
   "name": "python3"
  },
  "language_info": {
   "codemirror_mode": {
    "name": "ipython",
    "version": 3
   },
   "file_extension": ".py",
   "mimetype": "text/x-python",
   "name": "python",
   "nbconvert_exporter": "python",
   "pygments_lexer": "ipython3",
   "version": "3.12.7"
  }
 },
 "nbformat": 4,
 "nbformat_minor": 5
}
