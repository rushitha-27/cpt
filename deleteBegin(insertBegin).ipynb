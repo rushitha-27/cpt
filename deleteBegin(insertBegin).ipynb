{
 "cells": [
  {
   "cell_type": "code",
   "execution_count": null,
   "id": "f6baa308-b222-4907-9af7-f743c7ca0c20",
   "metadata": {},
   "outputs": [],
   "source": [
    "\"\"\"delete operation DLL:\n",
    "1. delete at begin /insert at begin\n",
    "40<-->30<-->20<-->10\n",
    "2. delete at begin/ insert at end\n",
    "3. delete at end/ insert at end\n",
    "4. delete at end/ insert at begin \"\"\"\n"
   ]
  },
  {
   "cell_type": "code",
   "execution_count": 1,
   "id": "6be64778-d285-4ee6-b2b9-ef369eba5a77",
   "metadata": {},
   "outputs": [
    {
     "name": "stdin",
     "output_type": "stream",
     "text": [
      "Enter the number of elements to insert at end : 4\n",
      "Enter element 1: 11\n",
      "Enter element 2: 22\n",
      "Enter element 3: 33\n",
      "Enter element 4: 44\n"
     ]
    },
    {
     "name": "stdout",
     "output_type": "stream",
     "text": [
      "Doubly Linked List:\n",
      "44 <--->33 <--->22 <--->11 <--->None\n"
     ]
    },
    {
     "name": "stdin",
     "output_type": "stream",
     "text": [
      "\n",
      " how many times you want to perform delete operation: 2\n"
     ]
    },
    {
     "ename": "AttributeError",
     "evalue": "'DoublyLinkedList' object has no attribute 'dap'",
     "output_type": "error",
     "traceback": [
      "\u001b[1;31m---------------------------------------------------------------------------\u001b[0m",
      "\u001b[1;31mAttributeError\u001b[0m                            Traceback (most recent call last)",
      "Cell \u001b[1;32mIn[1], line 40\u001b[0m\n\u001b[0;32m     38\u001b[0m d\u001b[38;5;241m=\u001b[39m\u001b[38;5;28mint\u001b[39m(\u001b[38;5;28minput\u001b[39m(\u001b[38;5;124m\"\u001b[39m\u001b[38;5;130;01m\\n\u001b[39;00m\u001b[38;5;124m how many times you want to perform delete operation:\u001b[39m\u001b[38;5;124m\"\u001b[39m))\n\u001b[0;32m     39\u001b[0m \u001b[38;5;28;01mfor\u001b[39;00m _ \u001b[38;5;129;01min\u001b[39;00m \u001b[38;5;28mrange\u001b[39m(d):\n\u001b[1;32m---> 40\u001b[0m     dll\u001b[38;5;241m.\u001b[39mdap()\n\u001b[0;32m     41\u001b[0m     dll\u001b[38;5;241m.\u001b[39mdisplay()\n",
      "\u001b[1;31mAttributeError\u001b[0m: 'DoublyLinkedList' object has no attribute 'dap'"
     ]
    }
   ],
   "source": [
    "class Node:\n",
    "    def __init__(self,data):\n",
    "        self.data=data\n",
    "        self.prev=None\n",
    "        self.next=None\n",
    "class DoublyLinkedList:\n",
    "    def __init__(self):\n",
    "        self.head=None\n",
    "    def iab(self,data):\n",
    "        newnode=Node(data)\n",
    "        if self.head is None:\n",
    "            self.head=newnode\n",
    "            return\n",
    "        newnode.next = self.head\n",
    "        self.head.prev = newnode\n",
    "        self.head = newnode\n",
    "    def dab(self):\n",
    "        if not self.head:\n",
    "            print(\"Can't perform delete in an empty list...\")\n",
    "        print(f\"Deleted: {self.head.data}\")\n",
    "        self.head=self.head.next\n",
    "        if self.head:\n",
    "            self.head.prev=None\n",
    "    def display(self):\n",
    "        temp=self.head\n",
    "        print(\"Doubly Linked List:\")\n",
    "        while temp:\n",
    "            print(temp.data, end=\" <--->\")\n",
    "            temp=temp.next\n",
    "        print(\"None\")\n",
    "\n",
    "dll=DoublyLinkedList()\n",
    "n=int(input(\"Enter the number of elements to insert at end :\"))\n",
    "for i in range(n):\n",
    "    val=int(input(f\"Enter element {i+1}:\"))\n",
    "    dll.iab(val)\n",
    "dll.display()\n",
    "d=int(input(\"\\n how many times you want to perform delete operation:\"))\n",
    "for _ in range(d):\n",
    "    dll.dab()\n",
    "    dll.display()"
   ]
  },
  {
   "cell_type": "code",
   "execution_count": null,
   "id": "0deab87a-9f1b-4646-81b9-b60fa1c6a97f",
   "metadata": {},
   "outputs": [],
   "source": []
  }
 ],
 "metadata": {
  "kernelspec": {
   "display_name": "Python 3 (ipykernel)",
   "language": "python",
   "name": "python3"
  },
  "language_info": {
   "codemirror_mode": {
    "name": "ipython",
    "version": 3
   },
   "file_extension": ".py",
   "mimetype": "text/x-python",
   "name": "python",
   "nbconvert_exporter": "python",
   "pygments_lexer": "ipython3",
   "version": "3.12.7"
  }
 },
 "nbformat": 4,
 "nbformat_minor": 5
}
